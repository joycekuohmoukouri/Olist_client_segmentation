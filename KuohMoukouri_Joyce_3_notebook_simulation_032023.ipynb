{
  "nbformat": 4,
  "nbformat_minor": 0,
  "metadata": {
    "colab": {
      "provenance": [],
      "collapsed_sections": [
        "KMCUMbmn5rLW",
        "t-PAG8XOPHID",
        "QrmgHOg1OlHY",
        "NZEoUrHLn0cf",
        "_XKdkQH7n0cs",
        "Jds4G2IMn0cu"
      ]
    },
    "kernelspec": {
      "name": "python3",
      "display_name": "Python 3"
    },
    "language_info": {
      "name": "python"
    }
  },
  "cells": [
    {
      "cell_type": "markdown",
      "source": [
        "### Sommaire\n",
        " \n",
        " - <a href=\"#C1\"> 1. Simulation avec K-means, k = 4, SET 1 (RFM) </a>\n",
        "    - <a href=\"#C11\"> 1.1 Importation </a>\n",
        "    - <a href=\"#C12\"> 1.2 Simulation </a>\n",
        "    - <a href=\"#C13\"> 1.3 Résultats </a>\n",
        "\n",
        " - <a href=\"#C2\"> 2.  Bonus : Simulation avec méthode mixte, k = 4, SET 2 (RFM + profil éco) </a>\n",
        "    - <a href=\"#C21\"> 2.1 Simulation </a>\n",
        "    - <a href=\"#C22\"> 2.2 Résultats </a>\n"
      ],
      "metadata": {
        "id": "uPyQdcW_Lciy"
      }
    },
    {
      "cell_type": "code",
      "execution_count": 5,
      "metadata": {
        "id": "-7yNtd2mClQw",
        "colab": {
          "base_uri": "https://localhost:8080/"
        },
        "outputId": "766b2ac3-647a-462c-d5ea-5dabd9f133c7"
      },
      "outputs": [
        {
          "output_type": "stream",
          "name": "stdout",
          "text": [
            "Looking in indexes: https://pypi.org/simple, https://us-python.pkg.dev/colab-wheels/public/simple/\n",
            "Requirement already satisfied: yellowbrick in /usr/local/lib/python3.10/dist-packages (1.5)\n",
            "Requirement already satisfied: matplotlib!=3.0.0,>=2.0.2 in /usr/local/lib/python3.10/dist-packages (from yellowbrick) (3.7.1)\n",
            "Requirement already satisfied: numpy>=1.16.0 in /usr/local/lib/python3.10/dist-packages (from yellowbrick) (1.22.4)\n",
            "Requirement already satisfied: scipy>=1.0.0 in /usr/local/lib/python3.10/dist-packages (from yellowbrick) (1.10.1)\n",
            "Requirement already satisfied: scikit-learn>=1.0.0 in /usr/local/lib/python3.10/dist-packages (from yellowbrick) (1.2.2)\n",
            "Requirement already satisfied: cycler>=0.10.0 in /usr/local/lib/python3.10/dist-packages (from yellowbrick) (0.11.0)\n",
            "Requirement already satisfied: kiwisolver>=1.0.1 in /usr/local/lib/python3.10/dist-packages (from matplotlib!=3.0.0,>=2.0.2->yellowbrick) (1.4.4)\n",
            "Requirement already satisfied: python-dateutil>=2.7 in /usr/local/lib/python3.10/dist-packages (from matplotlib!=3.0.0,>=2.0.2->yellowbrick) (2.8.2)\n",
            "Requirement already satisfied: pillow>=6.2.0 in /usr/local/lib/python3.10/dist-packages (from matplotlib!=3.0.0,>=2.0.2->yellowbrick) (8.4.0)\n",
            "Requirement already satisfied: contourpy>=1.0.1 in /usr/local/lib/python3.10/dist-packages (from matplotlib!=3.0.0,>=2.0.2->yellowbrick) (1.0.7)\n",
            "Requirement already satisfied: pyparsing>=2.3.1 in /usr/local/lib/python3.10/dist-packages (from matplotlib!=3.0.0,>=2.0.2->yellowbrick) (3.0.9)\n",
            "Requirement already satisfied: packaging>=20.0 in /usr/local/lib/python3.10/dist-packages (from matplotlib!=3.0.0,>=2.0.2->yellowbrick) (23.1)\n",
            "Requirement already satisfied: fonttools>=4.22.0 in /usr/local/lib/python3.10/dist-packages (from matplotlib!=3.0.0,>=2.0.2->yellowbrick) (4.39.3)\n",
            "Requirement already satisfied: joblib>=1.1.1 in /usr/local/lib/python3.10/dist-packages (from scikit-learn>=1.0.0->yellowbrick) (1.2.0)\n",
            "Requirement already satisfied: threadpoolctl>=2.0.0 in /usr/local/lib/python3.10/dist-packages (from scikit-learn>=1.0.0->yellowbrick) (3.1.0)\n",
            "Requirement already satisfied: six>=1.5 in /usr/local/lib/python3.10/dist-packages (from python-dateutil>=2.7->matplotlib!=3.0.0,>=2.0.2->yellowbrick) (1.16.0)\n"
          ]
        }
      ],
      "source": [
        "!pip install yellowbrick\n",
        "import pandas as pd\n",
        "import numpy as np\n",
        "import scipy.stats as stats\n",
        "import matplotlib.pyplot as plt\n",
        "import seaborn as sns\n",
        "import clean #mon module de fontions qui me permettent de nettoyer un dataframe\n",
        "import plot_\n",
        "import sklearn\n",
        "import time\n",
        "### ------------ Clustering ----------------\n",
        "from sklearn.cluster import KMeans\n",
        "from sklearn import model_selection\n",
        "from sklearn import metrics\n",
        "from yellowbrick.cluster import KElbowVisualizer, SilhouetteVisualizer\n",
        "### ------------ Pipeline ------------------\n",
        "from sklearn import preprocessing\n",
        "from sklearn.pipeline import Pipeline\n",
        "from sklearn.preprocessing import MinMaxScaler, OrdinalEncoder, RobustScaler,  StandardScaler\n",
        "from sklearn.preprocessing import StandardScaler\n",
        "from sklearn.compose import ColumnTransformer, TransformedTargetRegressor\n",
        "from sklearn import set_config\n",
        "set_config(display=\"diagram\")\n",
        "\n",
        "# Filter warnings\n",
        "import warnings\n",
        "warnings.filterwarnings('ignore')"
      ]
    },
    {
      "cell_type": "markdown",
      "source": [
        "# <a name=\"C1\"> 1. Simulation avec K-means, k = 4, SET 1 (RFM) </a>"
      ],
      "metadata": {
        "id": "02JmLygQWgpm"
      }
    },
    {
      "cell_type": "markdown",
      "source": [
        "## <a name=\"C11\"> 1.1 Importation </a>"
      ],
      "metadata": {
        "id": "KMCUMbmn5rLW"
      }
    },
    {
      "cell_type": "code",
      "source": [
        "  #Set 2, RFM ++ , reste d'échéances + pouvoir d'achat\n",
        "  df= pd.read_csv('/content/df_agg.csv',\n",
        "                  usecols = ['fréquence', 'récence_j', 'montant_moy'])"
      ],
      "metadata": {
        "id": "7nomZLA7UVyF"
      },
      "execution_count": 30,
      "outputs": []
    },
    {
      "cell_type": "code",
      "source": [
        "df.head()"
      ],
      "metadata": {
        "colab": {
          "base_uri": "https://localhost:8080/",
          "height": 204
        },
        "id": "GvPFSu5UUxIJ",
        "outputId": "bde17b5e-ede5-41fc-a51b-78e381eced84"
      },
      "execution_count": 31,
      "outputs": [
        {
          "output_type": "execute_result",
          "data": {
            "text/plain": [
              "   fréquence  récence_j  montant_moy\n",
              "0         16        133    56.377500\n",
              "1          9         29   218.175556\n",
              "2          7        186   139.012857\n",
              "3          6        609    18.453333\n",
              "4          6        130   451.745000"
            ],
            "text/html": [
              "\n",
              "  <div id=\"df-85d649df-0a08-42a0-a815-48cb77a50696\">\n",
              "    <div class=\"colab-df-container\">\n",
              "      <div>\n",
              "<style scoped>\n",
              "    .dataframe tbody tr th:only-of-type {\n",
              "        vertical-align: middle;\n",
              "    }\n",
              "\n",
              "    .dataframe tbody tr th {\n",
              "        vertical-align: top;\n",
              "    }\n",
              "\n",
              "    .dataframe thead th {\n",
              "        text-align: right;\n",
              "    }\n",
              "</style>\n",
              "<table border=\"1\" class=\"dataframe\">\n",
              "  <thead>\n",
              "    <tr style=\"text-align: right;\">\n",
              "      <th></th>\n",
              "      <th>fréquence</th>\n",
              "      <th>récence_j</th>\n",
              "      <th>montant_moy</th>\n",
              "    </tr>\n",
              "  </thead>\n",
              "  <tbody>\n",
              "    <tr>\n",
              "      <th>0</th>\n",
              "      <td>16</td>\n",
              "      <td>133</td>\n",
              "      <td>56.377500</td>\n",
              "    </tr>\n",
              "    <tr>\n",
              "      <th>1</th>\n",
              "      <td>9</td>\n",
              "      <td>29</td>\n",
              "      <td>218.175556</td>\n",
              "    </tr>\n",
              "    <tr>\n",
              "      <th>2</th>\n",
              "      <td>7</td>\n",
              "      <td>186</td>\n",
              "      <td>139.012857</td>\n",
              "    </tr>\n",
              "    <tr>\n",
              "      <th>3</th>\n",
              "      <td>6</td>\n",
              "      <td>609</td>\n",
              "      <td>18.453333</td>\n",
              "    </tr>\n",
              "    <tr>\n",
              "      <th>4</th>\n",
              "      <td>6</td>\n",
              "      <td>130</td>\n",
              "      <td>451.745000</td>\n",
              "    </tr>\n",
              "  </tbody>\n",
              "</table>\n",
              "</div>\n",
              "      <button class=\"colab-df-convert\" onclick=\"convertToInteractive('df-85d649df-0a08-42a0-a815-48cb77a50696')\"\n",
              "              title=\"Convert this dataframe to an interactive table.\"\n",
              "              style=\"display:none;\">\n",
              "        \n",
              "  <svg xmlns=\"http://www.w3.org/2000/svg\" height=\"24px\"viewBox=\"0 0 24 24\"\n",
              "       width=\"24px\">\n",
              "    <path d=\"M0 0h24v24H0V0z\" fill=\"none\"/>\n",
              "    <path d=\"M18.56 5.44l.94 2.06.94-2.06 2.06-.94-2.06-.94-.94-2.06-.94 2.06-2.06.94zm-11 1L8.5 8.5l.94-2.06 2.06-.94-2.06-.94L8.5 2.5l-.94 2.06-2.06.94zm10 10l.94 2.06.94-2.06 2.06-.94-2.06-.94-.94-2.06-.94 2.06-2.06.94z\"/><path d=\"M17.41 7.96l-1.37-1.37c-.4-.4-.92-.59-1.43-.59-.52 0-1.04.2-1.43.59L10.3 9.45l-7.72 7.72c-.78.78-.78 2.05 0 2.83L4 21.41c.39.39.9.59 1.41.59.51 0 1.02-.2 1.41-.59l7.78-7.78 2.81-2.81c.8-.78.8-2.07 0-2.86zM5.41 20L4 18.59l7.72-7.72 1.47 1.35L5.41 20z\"/>\n",
              "  </svg>\n",
              "      </button>\n",
              "      \n",
              "  <style>\n",
              "    .colab-df-container {\n",
              "      display:flex;\n",
              "      flex-wrap:wrap;\n",
              "      gap: 12px;\n",
              "    }\n",
              "\n",
              "    .colab-df-convert {\n",
              "      background-color: #E8F0FE;\n",
              "      border: none;\n",
              "      border-radius: 50%;\n",
              "      cursor: pointer;\n",
              "      display: none;\n",
              "      fill: #1967D2;\n",
              "      height: 32px;\n",
              "      padding: 0 0 0 0;\n",
              "      width: 32px;\n",
              "    }\n",
              "\n",
              "    .colab-df-convert:hover {\n",
              "      background-color: #E2EBFA;\n",
              "      box-shadow: 0px 1px 2px rgba(60, 64, 67, 0.3), 0px 1px 3px 1px rgba(60, 64, 67, 0.15);\n",
              "      fill: #174EA6;\n",
              "    }\n",
              "\n",
              "    [theme=dark] .colab-df-convert {\n",
              "      background-color: #3B4455;\n",
              "      fill: #D2E3FC;\n",
              "    }\n",
              "\n",
              "    [theme=dark] .colab-df-convert:hover {\n",
              "      background-color: #434B5C;\n",
              "      box-shadow: 0px 1px 3px 1px rgba(0, 0, 0, 0.15);\n",
              "      filter: drop-shadow(0px 1px 2px rgba(0, 0, 0, 0.3));\n",
              "      fill: #FFFFFF;\n",
              "    }\n",
              "  </style>\n",
              "\n",
              "      <script>\n",
              "        const buttonEl =\n",
              "          document.querySelector('#df-85d649df-0a08-42a0-a815-48cb77a50696 button.colab-df-convert');\n",
              "        buttonEl.style.display =\n",
              "          google.colab.kernel.accessAllowed ? 'block' : 'none';\n",
              "\n",
              "        async function convertToInteractive(key) {\n",
              "          const element = document.querySelector('#df-85d649df-0a08-42a0-a815-48cb77a50696');\n",
              "          const dataTable =\n",
              "            await google.colab.kernel.invokeFunction('convertToInteractive',\n",
              "                                                     [key], {});\n",
              "          if (!dataTable) return;\n",
              "\n",
              "          const docLinkHtml = 'Like what you see? Visit the ' +\n",
              "            '<a target=\"_blank\" href=https://colab.research.google.com/notebooks/data_table.ipynb>data table notebook</a>'\n",
              "            + ' to learn more about interactive tables.';\n",
              "          element.innerHTML = '';\n",
              "          dataTable['output_type'] = 'display_data';\n",
              "          await google.colab.output.renderOutput(dataTable, element);\n",
              "          const docLink = document.createElement('div');\n",
              "          docLink.innerHTML = docLinkHtml;\n",
              "          element.appendChild(docLink);\n",
              "        }\n",
              "      </script>\n",
              "    </div>\n",
              "  </div>\n",
              "  "
            ]
          },
          "metadata": {},
          "execution_count": 31
        }
      ]
    },
    {
      "cell_type": "markdown",
      "source": [
        "### Les hyper paramètres retenus : \n",
        "\n",
        "* Nombre de cluster = 4\n",
        "* Initialisation random\n",
        "* paramètre lloyd (paramètre par défaut)\n",
        "* Nombre d'initialisation = auto\n"
      ],
      "metadata": {
        "id": "biV_ydkZXVxa"
      }
    },
    {
      "cell_type": "code",
      "source": [
        "df.columns"
      ],
      "metadata": {
        "colab": {
          "base_uri": "https://localhost:8080/"
        },
        "id": "TBT5qhgAbYrA",
        "outputId": "f32f368b-5b30-4d48-b950-e0d9e0707990"
      },
      "execution_count": 32,
      "outputs": [
        {
          "output_type": "execute_result",
          "data": {
            "text/plain": [
              "Index(['fréquence', 'récence_j', 'montant_moy'], dtype='object')"
            ]
          },
          "metadata": {},
          "execution_count": 32
        }
      ]
    },
    {
      "cell_type": "code",
      "source": [
        "T_0 = df[['fréquence', 'récence_j', 'montant_moy']]\n",
        "T_k = df[['fréquence', 'récence_j', 'montant_moy']]"
      ],
      "metadata": {
        "id": "HzJq9dlkbVRT"
      },
      "execution_count": 33,
      "outputs": []
    },
    {
      "cell_type": "code",
      "source": [
        "len(T_0)"
      ],
      "metadata": {
        "colab": {
          "base_uri": "https://localhost:8080/"
        },
        "id": "8ojUD9jLb3RY",
        "outputId": "34ed8b06-ad70-4b8a-9f83-b7c17fc88a08"
      },
      "execution_count": 34,
      "outputs": [
        {
          "output_type": "execute_result",
          "data": {
            "text/plain": [
              "95417"
            ]
          },
          "metadata": {},
          "execution_count": 34
        }
      ]
    },
    {
      "cell_type": "code",
      "source": [
        "from sklearn.metrics import homogeneity_score, make_scorer, silhouette_score as sc\n",
        "numeric_transformer =  StandardScaler()\n",
        "num_features = df.dtypes[df.dtypes != 'object'].index.tolist()\n",
        "preprocessor = ColumnTransformer(transformers=[\n",
        "    ('numeric', numeric_transformer, num_features)], remainder='passthrough')\n",
        "\n",
        "#Data ------------------\n",
        "X_0 = T_0.values\n",
        "#Scaling à T_0---------------\n",
        "scaler_T0 = StandardScaler()\n",
        "X_0_scaled = scaler_T0.fit_transform(X_0)"
      ],
      "metadata": {
        "id": "VRgFQH4OlMx0"
      },
      "execution_count": 35,
      "outputs": []
    },
    {
      "cell_type": "code",
      "source": [
        "state = 38\n",
        "K_means_pipe_0 = Pipeline([\n",
        "      ('preprocessor', preprocessor),\n",
        "      ('K_means_0', sklearn.cluster.KMeans(n_clusters=4,\n",
        "                                             random_state = state,\n",
        "                                             init = 'random',\n",
        "                                             algorithm = 'lloyd',\n",
        "                                             n_init = 1))])\n",
        "K_means_pipe_0.fit(T_0)\n",
        "#Je récupère les centroïd des clusters \n",
        "centroids = K_means_pipe_0.named_steps.K_means_0.cluster_centers_"
      ],
      "metadata": {
        "id": "Y86rGgzrXo0R"
      },
      "execution_count": 36,
      "outputs": []
    },
    {
      "cell_type": "code",
      "source": [
        "centroids"
      ],
      "metadata": {
        "colab": {
          "base_uri": "https://localhost:8080/"
        },
        "id": "uKc6FgmiKCNL",
        "outputId": "b9f8d374-5026-4904-a811-6ecd3d275c99"
      },
      "execution_count": 37,
      "outputs": [
        {
          "output_type": "execute_result",
          "data": {
            "text/plain": [
              "array([[ 5.11416294, -0.16940031,  0.0347407 ],\n",
              "       [-0.1610477 ,  0.06171911, -0.05306379],\n",
              "       [-0.1610477 ,  1.35921072,  0.03635921],\n",
              "       [-0.1610477 , -1.04064229,  0.02867128]])"
            ]
          },
          "metadata": {},
          "execution_count": 37
        }
      ]
    },
    {
      "cell_type": "markdown",
      "source": [
        "## <a name=\"C12\"> 1.2 Simulation </a>"
      ],
      "metadata": {
        "id": "t-PAG8XOPHID"
      }
    },
    {
      "cell_type": "code",
      "source": [
        "#Test de prédiction sur le fichier clients au temps T=k antérieur à T_0\n",
        "# Q : Est-ce que le modèle KM0 aurait été valable k mois plus tôt? \n",
        "temps_array = np.arange(0,12,0.5) #Itération sur 4 mois après T_0 à raison de pas de 0.25, soit une semaine \n",
        "mois_j = 30\n",
        "ARI_df = pd.DataFrame([])\n",
        "for k in temps_array: \n",
        "  #Fichier clients au temps Tk\n",
        "  threshold = (df['récence_j'].min() + k*mois_j)\n",
        "  T_k = T_k[T_k['récence_j'] >= threshold] #Bon en arrière de k*mois\n",
        "  print(len(T_k))\n",
        "  X_k = T_k.values\n",
        "  ARI_df['T_0-'+str(k)+'mois'] = np.nan\n",
        "#------------------------------------Prédiction avec le pipeline initial------------------------------\n",
        "  cluster_KM0 = K_means_pipe_0.predict(T_k) \n",
        "  print('T_0 -',k,'mois')\n",
        "  \n",
        "#------------------------------------Prédiction avec le pipeline k------------------------------------  \n",
        "  state = 38\n",
        "  startcenter = centroids\n",
        "  K_means_pipe_k = Pipeline([\n",
        "      ('preprocessor', preprocessor),\n",
        "      ('K_means_k', sklearn.cluster.KMeans(n_clusters=4,\n",
        "                                             random_state = state,\n",
        "                                             init = startcenter,\n",
        "                                             algorithm = 'lloyd',\n",
        "                                             n_init = 1))])\n",
        "#Scaling à T_k---------------\n",
        "  \n",
        "  K_means_pipe_k.fit(T_k)\n",
        "  cluster_KMk = K_means_pipe_k.predict(T_k) \n",
        "#------------------------------------Comparaison des clusters du dataframe T_k------------------------------------  \n",
        "  ARI = metrics.adjusted_rand_score(cluster_KM0, cluster_KMk)\n",
        "  ARI_df.loc[0,'T_0-'+str(k)+'mois'] = ARI\n",
        "  #print('ARI=',ARI)\n",
        "  if ARI <0.8 :\n",
        "    print(ARI, 'Maintenance !')\n",
        "\n",
        "#----------------------------------Silhouette plot -------------------------------\n",
        "  #if k in np.arange(2.5,4.5):\n",
        "   # scaler_Tk = StandardScaler()\n",
        "   # X_k_scaled = scaler_Tk.fit_transform(X_k) #Également le résultat du pre-processing de K_means_pipe_k\n",
        "    #X_k_scaled_KM0 = scaler_T0.fit_transform(X_k) #Scaling par rapport à T_0\n",
        "   # plot_.plot_silhouette(X_k_scaled_KM0,cluster_KM0,4,'/content/Fichier_N3/plot_k_t0.png')\n",
        "   # plot_.plot_silhouette(X_k_scaled,cluster_KMk,4,'/content/Fichier_N3/plot_k_tk.png')"
      ],
      "metadata": {
        "colab": {
          "base_uri": "https://localhost:8080/"
        },
        "id": "9ynTI-IX9RJz",
        "outputId": "b344d927-b2bb-4073-854f-e8fa027e4dfa"
      },
      "execution_count": 38,
      "outputs": [
        {
          "output_type": "stream",
          "name": "stdout",
          "text": [
            "95417\n",
            "T_0 - 0.0 mois\n",
            "93717\n",
            "T_0 - 0.5 mois\n",
            "93717\n",
            "T_0 - 1.0 mois\n",
            "91947\n",
            "T_0 - 1.5 mois\n",
            "91947\n",
            "T_0 - 2.0 mois\n",
            "90262\n",
            "T_0 - 2.5 mois\n",
            "90262\n",
            "T_0 - 3.0 mois\n",
            "88226\n",
            "T_0 - 3.5 mois\n",
            "85408\n",
            "T_0 - 4.0 mois\n",
            "82384\n",
            "T_0 - 4.5 mois\n",
            "79212\n",
            "T_0 - 5.0 mois\n",
            "76586\n",
            "T_0 - 5.5 mois\n",
            "0.7776258434371478 Maintenance !\n",
            "73719\n",
            "T_0 - 6.0 mois\n",
            "71328\n",
            "T_0 - 6.5 mois\n",
            "68394\n",
            "T_0 - 7.0 mois\n",
            "66001\n",
            "T_0 - 7.5 mois\n",
            "62515\n",
            "T_0 - 8.0 mois\n",
            "60118\n",
            "T_0 - 8.5 mois\n",
            "0.6162218465153474 Maintenance !\n",
            "56627\n",
            "T_0 - 9.0 mois\n",
            "0.6326153683174335 Maintenance !\n",
            "53984\n",
            "T_0 - 9.5 mois\n",
            "0.7601617880951895 Maintenance !\n",
            "50681\n",
            "T_0 - 10.0 mois\n",
            "0.7233576901066623 Maintenance !\n",
            "47955\n",
            "T_0 - 10.5 mois\n",
            "0.7737234538318396 Maintenance !\n",
            "44480\n",
            "T_0 - 11.0 mois\n",
            "0.6818025877066015 Maintenance !\n",
            "42559\n",
            "T_0 - 11.5 mois\n",
            "0.7054333431932259 Maintenance !\n"
          ]
        }
      ]
    },
    {
      "cell_type": "code",
      "source": [
        "ARI_df  = ARI_df.T\n",
        "#ARI_df\n",
        "ARI_df = ARI_df.rename(columns= {0 : 'ARI'})\n",
        "ARI_df['mois'] = temps_array"
      ],
      "metadata": {
        "id": "DOvn-z_5jQvW"
      },
      "execution_count": 39,
      "outputs": []
    },
    {
      "cell_type": "markdown",
      "source": [
        "## <a name=\"C13 \"> 1.3 Résultats </a>"
      ],
      "metadata": {
        "id": "QrmgHOg1OlHY"
      }
    },
    {
      "cell_type": "code",
      "source": [
        "fig,ax = plt.subplots()\n",
        "sns.set()\n",
        "sns.scatterplot(data = ARI_df, x = 'mois', y = 'ARI')\n",
        "sns.lineplot(data = ARI_df, x = 'mois', y = 'ARI', ls ='--')\n",
        "ax.set_title('Courbe de maintenance du modèle')"
      ],
      "metadata": {
        "colab": {
          "base_uri": "https://localhost:8080/",
          "height": 556
        },
        "id": "xQWGiHCWYvpb",
        "outputId": "e42b4a9e-2e6a-4748-cba3-16a5393b5f01"
      },
      "execution_count": 40,
      "outputs": [
        {
          "output_type": "execute_result",
          "data": {
            "text/plain": [
              "Text(0.5, 1.0, 'Courbe de maintenance du modèle')"
            ]
          },
          "metadata": {},
          "execution_count": 40
        },
        {
          "output_type": "display_data",
          "data": {
            "text/plain": [
              "<Figure size 800x550 with 1 Axes>"
            ],
            "image/png": "[encoded data removed]"
          },
          "metadata": {}
        }
      ]
    },
    {
      "cell_type": "markdown",
      "source": [
        "Au bout de 5 mois et demi, le modèle initial ne coincide plus avec le modèle du dataset T_k."
      ],
      "metadata": {
        "id": "x_5cQV60OVjM"
      }
    },
    {
      "cell_type": "markdown",
      "source": [
        "# <a name=\"C2\"> 2.  Bonus : Simulation avec méthode mixte, k = 4, SET 2 (RFM + profil éco) </a>"
      ],
      "metadata": {
        "id": "NZEoUrHLn0cf"
      }
    },
    {
      "cell_type": "code",
      "source": [
        "df= pd.read_csv('/content/df_agg.csv',\n",
        "                  usecols = ['fréquence', 'récence_j','categorie', 'montant_moy', \n",
        "                             'critique_note'\n",
        "                              ])"
      ],
      "metadata": {
        "id": "bgSRAAJ4n0cj"
      },
      "execution_count": null,
      "outputs": []
    },
    {
      "cell_type": "code",
      "source": [
        "categorie = df.groupby('categorie')['montant_moy'].mean()\n",
        "categorie = round(categorie,2)\n",
        "mapping = categorie.to_dict()\n",
        "df['categorie'] = df['categorie'].replace(mapping)"
      ],
      "metadata": {
        "id": "s9HOjPkxp7ua"
      },
      "execution_count": null,
      "outputs": []
    },
    {
      "cell_type": "code",
      "source": [
        "from sklearn.metrics import homogeneity_score, make_scorer, silhouette_score as sc\n",
        "numeric_transformer =  StandardScaler()\n",
        "num_features = df.dtypes[df.dtypes != 'object'].index.tolist()\n",
        "preprocessor = ColumnTransformer(transformers=[\n",
        "    ('numeric', numeric_transformer, num_features)], remainder='passthrough')"
      ],
      "metadata": {
        "id": "l3m9IUyJqG6B"
      },
      "execution_count": null,
      "outputs": []
    },
    {
      "cell_type": "code",
      "source": [
        "T_0 = df[num_features]\n",
        "T_k = df[num_features]"
      ],
      "metadata": {
        "id": "EVsXLZLqn0cm"
      },
      "execution_count": null,
      "outputs": []
    },
    {
      "cell_type": "code",
      "source": [
        "len(T_0)"
      ],
      "metadata": {
        "colab": {
          "base_uri": "https://localhost:8080/"
        },
        "outputId": "b88cd259-0792-4c56-f7fd-2626020efbf0",
        "id": "vUhdYk5Dn0cm"
      },
      "execution_count": null,
      "outputs": [
        {
          "output_type": "execute_result",
          "data": {
            "text/plain": [
              "95417"
            ]
          },
          "metadata": {},
          "execution_count": 141
        }
      ]
    },
    {
      "cell_type": "code",
      "source": [
        "#Data ------------------\n",
        "X_0 = T_0.values\n",
        "#Scaling à T_0---------------\n",
        "scaler_T0 = StandardScaler()\n",
        "X_0_scaled = scaler_T0.fit_transform(X_0)"
      ],
      "metadata": {
        "id": "h2HvQxtin0co"
      },
      "execution_count": null,
      "outputs": []
    },
    {
      "cell_type": "code",
      "source": [
        "df_centroid = pd.read_csv('/content/centroid_mixte_set2.csv',\n",
        "                          usecols = num_features)\n"
      ],
      "metadata": {
        "id": "nNifUmtYn0co"
      },
      "execution_count": null,
      "outputs": []
    },
    {
      "cell_type": "code",
      "source": [
        "df_centroid\n",
        "start = df_centroid.values"
      ],
      "metadata": {
        "id": "QkBWzfiun0cp"
      },
      "execution_count": null,
      "outputs": []
    },
    {
      "cell_type": "code",
      "source": [
        "start"
      ],
      "metadata": {
        "colab": {
          "base_uri": "https://localhost:8080/"
        },
        "outputId": "9b7ff409-64c6-4484-9c1d-e16de1567a32",
        "id": "XsqS1pHYn0cq"
      },
      "execution_count": null,
      "outputs": [
        {
          "output_type": "execute_result",
          "data": {
            "text/plain": [
              "array([[-0.16739857, -0.66331606,  0.41591284,  0.1834534 ,  0.9223164 ],\n",
              "       [ 0.09037875,  0.21245411,  7.42069684, -0.33721146,  0.18144181],\n",
              "       [ 5.91362139, -0.17605707,  0.22612142, -0.21721703,  0.34086726],\n",
              "       [-0.16739857,  0.49329886,  0.31469413, -1.51522052, -0.22577801],\n",
              "       [-0.16739857,  1.53963415,  0.31683135,  0.34797303, -1.3770142 ]])"
            ]
          },
          "metadata": {},
          "execution_count": 145
        }
      ]
    },
    {
      "cell_type": "code",
      "source": [
        "state = 38\n",
        "K_means_pipe_0 = Pipeline([\n",
        "      ('preprocessor', preprocessor),\n",
        "      ('K_means_0', sklearn.cluster.KMeans(n_clusters=5,\n",
        "                                             random_state = state,\n",
        "                                             init = start,\n",
        "                                             algorithm = 'lloyd',\n",
        "                                             n_init = 1))])\n",
        "K_means_pipe_0.fit(T_0)\n",
        "centroids = K_means_pipe_0.named_steps.K_means_0.cluster_centers_"
      ],
      "metadata": {
        "id": "6qsTSElNn0cr"
      },
      "execution_count": null,
      "outputs": []
    },
    {
      "cell_type": "markdown",
      "source": [
        "## <a name=\"C21\"> 2.1 Simulation </a>"
      ],
      "metadata": {
        "id": "_XKdkQH7n0cs"
      }
    },
    {
      "cell_type": "code",
      "source": [
        "#Test de prédiction sur le fichier clients au temps T=k antérieur à T_0\n",
        "# Q : Est-ce que le modèle KM0 aurait été valable k mois plus tôt? \n",
        "temps_array = np.arange(0,24,1.) #Itération sur 4 mois après T_0 à raison de pas de 0.25, soit une semaine \n",
        "mois_j = 30\n",
        "ARI_df = pd.DataFrame([])\n",
        "for k in temps_array: \n",
        "  #Fichier clients au temps Tk\n",
        "  threshold = (df['récence_j'].min() + k*mois_j)\n",
        "  T_k = T_k[T_k['récence_j'] >= threshold] #Bon en arrière de k*mois\n",
        "  print(len(T_k))\n",
        "  X_k = T_k.values\n",
        "  ARI_df['T_0-'+str(k)+'mois'] = np.nan\n",
        "#------------------------------------Prédiction avec le pipeline initial------------------------------\n",
        "  cluster_KM0 = K_means_pipe_0.predict(T_k) \n",
        "  print('T_0 -',k,'mois')\n",
        "  \n",
        "#------------------------------------Prédiction avec le pipeline k------------------------------------  \n",
        "  state = 38\n",
        "  #startcenter = centroids\n",
        "  K_means_pipe_k = Pipeline([\n",
        "      ('preprocessor', preprocessor),\n",
        "      ('K_means_k', sklearn.cluster.KMeans(n_clusters=5,\n",
        "                                             random_state = state,\n",
        "                                             init = start, #startcenter,\n",
        "                                             algorithm = 'lloyd',\n",
        "                                             n_init = 1))])\n",
        "#Scaling à T_k---------------\n",
        "  \n",
        "  K_means_pipe_k.fit(T_k)\n",
        "  cluster_KMk = K_means_pipe_k.predict(T_k) \n",
        "#------------------------------------Comparaison des clusters du dataframe T_k------------------------------------  \n",
        "  ARI = metrics.adjusted_rand_score(cluster_KM0, cluster_KMk)\n",
        "  ARI_df.loc[0,'T_0-'+str(k)+'mois'] = ARI\n",
        "  #print('ARI=',ARI)\n",
        "  if ARI <0.8 :\n",
        "    print(ARI, 'Maintenance !')\n",
        "\n",
        "#----------------------------------Silhouette plot -------------------------------\n",
        "#scaler_Tk = StandardScaler()\n",
        "#X_k_scaled = scaler_Tk.fit_transform(X_k) #Également le résultat du pre-processing de K_means_pipe_k\n",
        "#X_k_scaled_KM0 = scaler_T0.fit_transform(X_k) #Scaling par rapport à T_0\n",
        "#plot_.plot_silhouette(X_k_scaled_KM0,cluster_KM0,4,'/content/Fichier_N3/TEST.png')\n",
        "#plot_.plot_silhouette(X_k_scaled,cluster_KMk,4,'/content/Fichier_N3/TEST.png')"
      ],
      "metadata": {
        "colab": {
          "base_uri": "https://localhost:8080/"
        },
        "outputId": "87631d62-1536-45bb-8f46-3a7fb3acb71c",
        "id": "u81nX7s8n0cs"
      },
      "execution_count": null,
      "outputs": [
        {
          "output_type": "stream",
          "name": "stdout",
          "text": [
            "16626\n",
            "T_0 - 0.0 mois\n",
            "16626\n",
            "T_0 - 1.0 mois\n",
            "16626\n",
            "T_0 - 2.0 mois\n",
            "16626\n",
            "T_0 - 3.0 mois\n",
            "16626\n",
            "T_0 - 4.0 mois\n",
            "16626\n",
            "T_0 - 5.0 mois\n",
            "16626\n",
            "T_0 - 6.0 mois\n",
            "16626\n",
            "T_0 - 7.0 mois\n",
            "16626\n",
            "T_0 - 8.0 mois\n",
            "16626\n",
            "T_0 - 9.0 mois\n",
            "16626\n",
            "T_0 - 10.0 mois\n",
            "16626\n",
            "T_0 - 11.0 mois\n",
            "16626\n",
            "T_0 - 12.0 mois\n",
            "16626\n",
            "T_0 - 13.0 mois\n",
            "16626\n",
            "T_0 - 14.0 mois\n",
            "16626\n",
            "T_0 - 15.0 mois\n",
            "16626\n",
            "T_0 - 16.0 mois\n",
            "16626\n",
            "T_0 - 17.0 mois\n",
            "15344\n",
            "T_0 - 18.0 mois\n",
            "11916\n",
            "T_0 - 19.0 mois\n",
            "0.7240714667056182 Maintenance !\n",
            "8818\n",
            "T_0 - 20.0 mois\n",
            "0.520917368183038 Maintenance !\n",
            "6110\n",
            "T_0 - 21.0 mois\n",
            "0.40117900541297274 Maintenance !\n",
            "3725\n",
            "T_0 - 22.0 mois\n",
            "0.4346945523602113 Maintenance !\n",
            "1681\n",
            "T_0 - 23.0 mois\n",
            "0.44229010740102076 Maintenance !\n"
          ]
        }
      ]
    },
    {
      "cell_type": "code",
      "source": [
        "ARI_df  = ARI_df.T\n",
        "#ARI_df\n",
        "ARI_df = ARI_df.rename(columns= {0 : 'ARI'})\n",
        "ARI_df['mois'] = temps_array"
      ],
      "metadata": {
        "id": "SE3YIVEpn0cu"
      },
      "execution_count": null,
      "outputs": []
    },
    {
      "cell_type": "markdown",
      "source": [
        "## <a name=\"C22\"> 2.2 Résultats </a>"
      ],
      "metadata": {
        "id": "Jds4G2IMn0cu"
      }
    },
    {
      "cell_type": "code",
      "source": [
        "fig,ax = plt.subplots()\n",
        "sns.set()\n",
        "sns.scatterplot(data = ARI_df, x = 'mois', y = 'ARI')\n",
        "sns.lineplot(data = ARI_df, x = 'mois', y = 'ARI', ls ='--')\n",
        "ax.set_title('Courbe de maintenance du modèle')"
      ],
      "metadata": {
        "colab": {
          "base_uri": "https://localhost:8080/",
          "height": 556
        },
        "outputId": "96dbd876-0223-4abd-89e0-0187f0fd5984",
        "id": "Ubcw5Dp8n0cu"
      },
      "execution_count": null,
      "outputs": [
        {
          "output_type": "execute_result",
          "data": {
            "text/plain": [
              "Text(0.5, 1.0, 'Courbe de maintenance du modèle')"
            ]
          },
          "metadata": {},
          "execution_count": 155
        },
        {
          "output_type": "display_data",
          "data": {
            "text/plain": [
              "<Figure size 800x550 with 1 Axes>"
            ],
            "image/png": "[encoded data removed]"
          },
          "metadata": {}
        }
      ]
    },
    {
      "cell_type": "markdown",
      "source": [
        "Au bout de 13 mois, le modèle initial ne coincide plus avec le modèle du dataset T_k."
      ],
      "metadata": {
        "id": "qgH1bz-Xn0cv"
      }
    }
  ]
}